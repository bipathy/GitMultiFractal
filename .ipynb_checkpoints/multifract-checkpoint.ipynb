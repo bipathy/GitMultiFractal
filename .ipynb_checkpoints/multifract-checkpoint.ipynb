{
 "cells": [
  {
   "cell_type": "code",
   "execution_count": 19,
   "metadata": {
    "vscode": {
     "languageId": "shellscript"
    }
   },
   "outputs": [],
   "source": [
    "%%bash\n",
    "python3.13 -m venv /Users/jethro/Documents/Code/GitOak/MultiFractal/multifractal_env\n",
    "source /Users/jethro/Documents/Code/GitOak/MultiFractal/multifractal_env/bin/activate"
   ]
  },
  {
   "cell_type": "code",
   "execution_count": 18,
   "metadata": {
    "vscode": {
     "languageId": "shellscript"
    }
   },
   "outputs": [],
   "source": [
    "%%bash\n",
    "cd /Users/jethro/Documents/Code/GitOak/MultiFractal/"
   ]
  },
  {
   "cell_type": "markdown",
   "metadata": {
    "vscode": {
     "languageId": "shellscript"
    }
   },
   "source": [
    "Step 2 will be to install dependencies"
   ]
  },
  {
   "cell_type": "code",
   "execution_count": 20,
   "metadata": {
    "vscode": {
     "languageId": "shellscript"
    }
   },
   "outputs": [
    {
     "name": "stdout",
     "output_type": "stream",
     "text": [
      "Collecting numpy\n",
      "  Using cached numpy-2.1.3-cp313-cp313-macosx_14_0_arm64.whl.metadata (62 kB)\n",
      "Collecting pandas\n",
      "  Using cached pandas-2.2.3-cp313-cp313-macosx_11_0_arm64.whl.metadata (89 kB)\n",
      "Collecting matplotlib\n",
      "  Using cached matplotlib-3.9.2-cp313-cp313-macosx_11_0_arm64.whl.metadata (11 kB)\n"
     ]
    },
    {
     "name": "stderr",
     "output_type": "stream",
     "text": [
      "\u001b[31mERROR: Ignored the following versions that require a different python version: 1.21.2 Requires-Python >=3.7,<3.11; 1.21.3 Requires-Python >=3.7,<3.11; 1.21.4 Requires-Python >=3.7,<3.11; 1.21.5 Requires-Python >=3.7,<3.11; 1.21.6 Requires-Python >=3.7,<3.11; 1.26.0 Requires-Python <3.13,>=3.9; 1.26.1 Requires-Python <3.13,>=3.9\u001b[0m\u001b[31m\n",
      "\u001b[0m\u001b[31mERROR: Could not find a version that satisfies the requirement mfdaf (from versions: none)\u001b[0m\u001b[31m\n",
      "\u001b[0m\u001b[31mERROR: No matching distribution found for mfdaf\u001b[0m\u001b[31m\n",
      "\u001b[0m"
     ]
    },
    {
     "ename": "CalledProcessError",
     "evalue": "Command 'b'pip install numpy pandas matplotlib mfdaf nibabel\\n'' returned non-zero exit status 1.",
     "output_type": "error",
     "traceback": [
      "\u001b[0;31m---------------------------------------------------------------------------\u001b[0m",
      "\u001b[0;31mCalledProcessError\u001b[0m                        Traceback (most recent call last)",
      "Cell \u001b[0;32mIn[20], line 1\u001b[0m\n\u001b[0;32m----> 1\u001b[0m \u001b[43mget_ipython\u001b[49m\u001b[43m(\u001b[49m\u001b[43m)\u001b[49m\u001b[38;5;241;43m.\u001b[39;49m\u001b[43mrun_cell_magic\u001b[49m\u001b[43m(\u001b[49m\u001b[38;5;124;43m'\u001b[39;49m\u001b[38;5;124;43mbash\u001b[39;49m\u001b[38;5;124;43m'\u001b[39;49m\u001b[43m,\u001b[49m\u001b[43m \u001b[49m\u001b[38;5;124;43m'\u001b[39;49m\u001b[38;5;124;43m'\u001b[39;49m\u001b[43m,\u001b[49m\u001b[43m \u001b[49m\u001b[38;5;124;43m'\u001b[39;49m\u001b[38;5;124;43mpip install numpy pandas matplotlib mfdaf nibabel\u001b[39;49m\u001b[38;5;130;43;01m\\n\u001b[39;49;00m\u001b[38;5;124;43m'\u001b[39;49m\u001b[43m)\u001b[49m\n",
      "File \u001b[0;32m~/Documents/.venv/lib/python3.13/site-packages/IPython/core/interactiveshell.py:2541\u001b[0m, in \u001b[0;36mInteractiveShell.run_cell_magic\u001b[0;34m(self, magic_name, line, cell)\u001b[0m\n\u001b[1;32m   2539\u001b[0m \u001b[38;5;28;01mwith\u001b[39;00m \u001b[38;5;28mself\u001b[39m\u001b[38;5;241m.\u001b[39mbuiltin_trap:\n\u001b[1;32m   2540\u001b[0m     args \u001b[38;5;241m=\u001b[39m (magic_arg_s, cell)\n\u001b[0;32m-> 2541\u001b[0m     result \u001b[38;5;241m=\u001b[39m \u001b[43mfn\u001b[49m\u001b[43m(\u001b[49m\u001b[38;5;241;43m*\u001b[39;49m\u001b[43margs\u001b[49m\u001b[43m,\u001b[49m\u001b[43m \u001b[49m\u001b[38;5;241;43m*\u001b[39;49m\u001b[38;5;241;43m*\u001b[39;49m\u001b[43mkwargs\u001b[49m\u001b[43m)\u001b[49m\n\u001b[1;32m   2543\u001b[0m \u001b[38;5;66;03m# The code below prevents the output from being displayed\u001b[39;00m\n\u001b[1;32m   2544\u001b[0m \u001b[38;5;66;03m# when using magics with decorator @output_can_be_silenced\u001b[39;00m\n\u001b[1;32m   2545\u001b[0m \u001b[38;5;66;03m# when the last Python token in the expression is a ';'.\u001b[39;00m\n\u001b[1;32m   2546\u001b[0m \u001b[38;5;28;01mif\u001b[39;00m \u001b[38;5;28mgetattr\u001b[39m(fn, magic\u001b[38;5;241m.\u001b[39mMAGIC_OUTPUT_CAN_BE_SILENCED, \u001b[38;5;28;01mFalse\u001b[39;00m):\n",
      "File \u001b[0;32m~/Documents/.venv/lib/python3.13/site-packages/IPython/core/magics/script.py:155\u001b[0m, in \u001b[0;36mScriptMagics._make_script_magic.<locals>.named_script_magic\u001b[0;34m(line, cell)\u001b[0m\n\u001b[1;32m    153\u001b[0m \u001b[38;5;28;01melse\u001b[39;00m:\n\u001b[1;32m    154\u001b[0m     line \u001b[38;5;241m=\u001b[39m script\n\u001b[0;32m--> 155\u001b[0m \u001b[38;5;28;01mreturn\u001b[39;00m \u001b[38;5;28;43mself\u001b[39;49m\u001b[38;5;241;43m.\u001b[39;49m\u001b[43mshebang\u001b[49m\u001b[43m(\u001b[49m\u001b[43mline\u001b[49m\u001b[43m,\u001b[49m\u001b[43m \u001b[49m\u001b[43mcell\u001b[49m\u001b[43m)\u001b[49m\n",
      "File \u001b[0;32m~/Documents/.venv/lib/python3.13/site-packages/IPython/core/magics/script.py:315\u001b[0m, in \u001b[0;36mScriptMagics.shebang\u001b[0;34m(self, line, cell)\u001b[0m\n\u001b[1;32m    310\u001b[0m \u001b[38;5;28;01mif\u001b[39;00m args\u001b[38;5;241m.\u001b[39mraise_error \u001b[38;5;129;01mand\u001b[39;00m p\u001b[38;5;241m.\u001b[39mreturncode \u001b[38;5;241m!=\u001b[39m \u001b[38;5;241m0\u001b[39m:\n\u001b[1;32m    311\u001b[0m     \u001b[38;5;66;03m# If we get here and p.returncode is still None, we must have\u001b[39;00m\n\u001b[1;32m    312\u001b[0m     \u001b[38;5;66;03m# killed it but not yet seen its return code. We don't wait for it,\u001b[39;00m\n\u001b[1;32m    313\u001b[0m     \u001b[38;5;66;03m# in case it's stuck in uninterruptible sleep. -9 = SIGKILL\u001b[39;00m\n\u001b[1;32m    314\u001b[0m     rc \u001b[38;5;241m=\u001b[39m p\u001b[38;5;241m.\u001b[39mreturncode \u001b[38;5;129;01mor\u001b[39;00m \u001b[38;5;241m-\u001b[39m\u001b[38;5;241m9\u001b[39m\n\u001b[0;32m--> 315\u001b[0m     \u001b[38;5;28;01mraise\u001b[39;00m CalledProcessError(rc, cell)\n",
      "\u001b[0;31mCalledProcessError\u001b[0m: Command 'b'pip install numpy pandas matplotlib mfdaf nibabel\\n'' returned non-zero exit status 1."
     ]
    }
   ],
   "source": [
    "%%bash\n",
    "pip install numpy pandas matplotlib mfdaf nibabel"
   ]
  },
  {
   "cell_type": "markdown",
   "metadata": {},
   "source": [
    "After that, we need to extract time series data"
   ]
  },
  {
   "cell_type": "code",
   "execution_count": 4,
   "metadata": {},
   "outputs": [
    {
     "name": "stdout",
     "output_type": "stream",
     "text": [
      "Processing sub-02...\n",
      "Processing sub-03...\n",
      "Processing sub-04...\n",
      "Processing sub-05...\n",
      "Processing sub-06...\n",
      "Processing sub-07...\n",
      "Processing sub-08...\n",
      "Processing sub-09...\n",
      "Processing sub-10...\n",
      "Processing sub-11...\n",
      "Processing sub-12...\n",
      "Processing sub-13...\n"
     ]
    }
   ],
   "source": [
    "import os\n",
    "import nibabel as nib\n",
    "import numpy as np\n",
    "\n",
    "# Define data directory\n",
    "data_dir = \"/Users/jethro/Documents/Code/GitOak/MultiFractal\"\n",
    "output_dir = \"/Users/jethro/Documents/Code/GitOak/MultiFractal/extracted_time_series\"\n",
    "os.makedirs(output_dir, exist_ok=True)\n",
    "\n",
    "# Function to extract mean time-series for each subject\n",
    "def extract_time_series(subject_id, mask_path=None):\n",
    "    # Adjust filename pattern to match actual file names\n",
    "    subject_path = os.path.join(data_dir, subject_id, \"func\", \n",
    "                                f\"{subject_id}_task-bilateralfingertapping_echo-1_bold.nii.gz\")\n",
    "    \n",
    "    if not os.path.exists(subject_path):\n",
    "        raise FileNotFoundError(f\"File not found: {subject_path}\")\n",
    "    \n",
    "    img = nib.load(subject_path)\n",
    "    data = img.get_fdata()\n",
    "    \n",
    "    # If mask is provided, apply it\n",
    "    if mask_path:\n",
    "        mask = nib.load(mask_path).get_fdata()\n",
    "        data = data[mask > 0]\n",
    "    \n",
    "    # Average time-series across voxels\n",
    "    time_series = data.mean(axis=(0, 1, 2))  # Adjust if using a mask\n",
    "    return time_series\n",
    "\n",
    "# Loop through subjects\n",
    "for sub in range(2, 14):  # sub-02 to sub-13\n",
    "    sub_id = f\"sub-{sub:02d}\"\n",
    "    print(f\"Processing {sub_id}...\")\n",
    "    try:\n",
    "        time_series = extract_time_series(sub_id)\n",
    "        np.savetxt(os.path.join(output_dir, f\"{sub_id}_time_series.csv\"), time_series, delimiter=\",\")\n",
    "    except FileNotFoundError as e:\n",
    "        print(e)"
   ]
  },
  {
   "cell_type": "markdown",
   "metadata": {},
   "source": [
    "Following this, we proceed with MultiFractal Analysis on the data using analytics software"
   ]
  },
  {
   "cell_type": "code",
   "execution_count": 7,
   "metadata": {
    "vscode": {
     "languageId": "shellscript"
    }
   },
   "outputs": [
    {
     "name": "stdout",
     "output_type": "stream",
     "text": [
      "Collecting MFDFA\n",
      "  Downloading MFDFA-0.4.3-py3-none-any.whl.metadata (9.2 kB)\n",
      "Requirement already satisfied: numpy in /Users/jethro/Documents/.venv/lib/python3.13/site-packages (from MFDFA) (2.1.3)\n",
      "Downloading MFDFA-0.4.3-py3-none-any.whl (16 kB)\n",
      "Installing collected packages: MFDFA\n",
      "Successfully installed MFDFA-0.4.3\n"
     ]
    }
   ],
   "source": [
    "# install dependenies for MultiFractal Analysis - MF-DFA\n",
    "! pip install MFDFA"
   ]
  },
  {
   "cell_type": "markdown",
   "metadata": {},
   "source": [
    "Then we use MFDFA to analyze the extracted data. Results for Hurst exponents (hurst), scaling exponents (tau), singularity strengths (alpha), and multifractal spectra (f(α)) are saved as .csv files. Plots of the multifractal spectrum are saved for each subject."
   ]
  },
  {
   "cell_type": "code",
   "execution_count": 20,
   "metadata": {},
   "outputs": [],
   "source": [
    "import os\n",
    "import numpy as np\n",
    "import matplotlib.pyplot as plt\n",
    "from MFDFA import MFDFA\n",
    "from scipy.interpolate import UnivariateSpline\n",
    "from scipy.stats import linregress\n",
    "\n",
    "# Define directories\n",
    "time_series_dir = \"/Users/jethro/Documents/Code/GitOak/MultiFractal/extracted_time_series\"\n",
    "output_dir = \"/Users/jethro/Documents/Code/GitOak/MultiFractal/multifractal_results\"\n",
    "os.makedirs(output_dir, exist_ok=True)\n",
    "\n",
    "# MF-DFA parameters\n",
    "scale_min, scale_max = 10, 500  # Minimum and maximum scales\n",
    "\n",
    "def compute_Hq(Fq, scales):\n",
    "    num_q = Fq.shape[1]\n",
    "    Hq = np.zeros(num_q)\n",
    "    log_scales = np.log2(scales)\n",
    "    \n",
    "    for i in range(num_q):\n",
    "        log_Fq = np.log2(Fq[:, i])\n",
    "        # Handle any invalid values\n",
    "        valid = np.isfinite(log_Fq)\n",
    "        if np.sum(valid) < 2:\n",
    "            Hq[i] = np.nan\n",
    "            continue\n",
    "        # Perform linear regression\n",
    "        slope, _, _, _, _ = linregress(log_scales[valid], log_Fq[valid])\n",
    "        Hq[i] = slope\n",
    "    return Hq\n",
    "\n",
    "def compute_singularity_spectrum(q, tau):\n",
    "    # Remove NaN values\n",
    "    valid = ~np.isnan(tau)\n",
    "    q = q[valid]\n",
    "    tau = tau[valid]\n",
    "    \n",
    "    # Fit a cubic spline to tau(q)\n",
    "    spline = UnivariateSpline(q, tau, k=3, s=0)\n",
    "    # Compute derivative of tau with respect to q\n",
    "    alpha = spline.derivative()(q)\n",
    "    # Compute f(α) as q*α - τ(q)\n",
    "    f_alpha = q * alpha - tau\n",
    "    return alpha, f_alpha\n",
    "\n",
    "def perform_mfdfa(file_path, output_path):\n",
    "    # Load time-series data\n",
    "    time_series = np.loadtxt(file_path)\n",
    "    \n",
    "    # Define scales and q_values\n",
    "    scales = np.logspace(np.log10(scale_min), np.log10(scale_max), num=20, base=10).astype(int)\n",
    "    q_values = np.arange(-5, 6, 1)\n",
    "    q_values = q_values[q_values != 0]  # Exclude q=0\n",
    "    \n",
    "    # Perform MF-DFA\n",
    "    # Unpack the returned fluctuation functions\n",
    "    Fq = MFDFA(time_series, scales, q=q_values)[0]\n",
    "    \n",
    "    # Verify Fq is a NumPy array\n",
    "    print(f\"Fq shape: {Fq.shape}\")\n",
    "    \n",
    "    # Compute Hq\n",
    "    Hq = compute_Hq(Fq, scales)\n",
    "    \n",
    "    # Calculate tau(q)\n",
    "    tau = q_values * Hq - 1\n",
    "    \n",
    "    # Compute singularity spectrum\n",
    "    alpha, f_alpha = compute_singularity_spectrum(q_values, tau)\n",
    "    \n",
    "    # Save results\n",
    "    np.savetxt(os.path.join(output_path, \"Hq.csv\"), Hq, delimiter=\",\")\n",
    "    np.savetxt(os.path.join(output_path, \"tau.csv\"), tau, delimiter=\",\")\n",
    "    np.savetxt(os.path.join(output_path, \"alpha.csv\"), alpha, delimiter=\",\")\n",
    "    np.savetxt(os.path.join(output_path, \"f_alpha.csv\"), f_alpha, delimiter=\",\")\n",
    "    \n",
    "    # Plot the multifractal spectrum\n",
    "    plt.figure(figsize=(8, 6))\n",
    "    plt.plot(alpha, f_alpha, '-o')\n",
    "    plt.xlabel('Singularity Strength (α)')\n",
    "    plt.ylabel('Multifractal Spectrum (f(α))')\n",
    "    plt.title(f'Multifractal Spectrum for {os.path.basename(file_path)}')\n",
    "    plt.grid()\n",
    "    plt.savefig(os.path.join(output_path, \"multifractal_spectrum.png\"))\n",
    "    plt.close()\n",
    "\n",
    "# Loop through extracted time-series files\n",
    "for file_name in os.listdir(time_series_dir):\n",
    "    if file_name.endswith(\".csv\"):\n",
    "        subject_id = file_name.split(\"_\")[0]"
   ]
  },
  {
   "cell_type": "markdown",
   "metadata": {},
   "source": [
    "The output should produce fluctuation and correlation functions and diagrams for the processed data. The fact that the code seems to have run quickly without any output is concerning, though. The output folder remains empty at the moment, but I'm hopeful that the files are simply rendering and should populate shortly."
   ]
  },
  {
   "cell_type": "markdown",
   "metadata": {},
   "source": [
    "It's looking like the process is simply taking a long time to run, and because VSCode handles python scripts through a kernel solver, they don't show up in the processes page of actvity monitor, but the network acivity still shows a long-running python task which appears to still be working."
   ]
  },
  {
   "cell_type": "code",
   "execution_count": null,
   "metadata": {},
   "outputs": [],
   "source": []
  }
 ],
 "metadata": {
  "kernelspec": {
   "display_name": ".venv",
   "language": "python",
   "name": "python3"
  },
  "language_info": {
   "codemirror_mode": {
    "name": "ipython",
    "version": 3
   },
   "file_extension": ".py",
   "mimetype": "text/x-python",
   "name": "python",
   "nbconvert_exporter": "python",
   "pygments_lexer": "ipython3",
   "version": "3.13.0"
  }
 },
 "nbformat": 4,
 "nbformat_minor": 2
}
